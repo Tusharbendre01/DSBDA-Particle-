{
 "cells": [
  {
   "cell_type": "code",
   "execution_count": 14,
   "id": "6d6d0014-3024-4692-a8a9-81136a4f6976",
   "metadata": {},
   "outputs": [
    {
     "name": "stderr",
     "output_type": "stream",
     "text": [
      "[nltk_data] Downloading package punkt to C:\\Users\\Saurabh\n",
      "[nltk_data]     Kotkar\\AppData\\Roaming\\nltk_data...\n",
      "[nltk_data]   Package punkt is already up-to-date!\n",
      "[nltk_data] Downloading package wordnet to C:\\Users\\Saurabh\n",
      "[nltk_data]     Kotkar\\AppData\\Roaming\\nltk_data...\n",
      "[nltk_data]   Package wordnet is already up-to-date!\n",
      "[nltk_data] Downloading package averaged_perceptron_tagger to\n",
      "[nltk_data]     C:\\Users\\Saurabh Kotkar\\AppData\\Roaming\\nltk_data...\n",
      "[nltk_data]   Package averaged_perceptron_tagger is already up-to-\n",
      "[nltk_data]       date!\n",
      "[nltk_data] Downloading package stopwords to C:\\Users\\Saurabh\n",
      "[nltk_data]     Kotkar\\AppData\\Roaming\\nltk_data...\n",
      "[nltk_data]   Package stopwords is already up-to-date!\n"
     ]
    }
   ],
   "source": [
    "import nltk\n",
    "nltk.download('punkt')\n",
    "nltk.download('wordnet')\n",
    "nltk.download('averaged_perceptron_tagger')\n",
    "nltk.download('stopwords')\n",
    "from nltk import sent_tokenize\n",
    "from nltk import word_tokenize\n",
    "from nltk.corpus import stopwords\n"
   ]
  },
  {
   "cell_type": "code",
   "execution_count": 15,
   "id": "ef763553-e2b4-488f-80b3-be6fc0e732df",
   "metadata": {},
   "outputs": [],
   "source": [
    "text='I am saurabh kotkar . I am live in the maharastra . I play cricket'"
   ]
  },
  {
   "cell_type": "code",
   "execution_count": 16,
   "id": "af6746b8-8ef0-43ee-9e79-80e382e4ea28",
   "metadata": {},
   "outputs": [
    {
     "name": "stdout",
     "output_type": "stream",
     "text": [
      "['I am saurabh kotkar .', 'I am live in the maharastra .', 'I play cricket']\n",
      "['I', 'am', 'saurabh', 'kotkar', '.', 'I', 'am', 'live', 'in', 'the', 'maharastra', '.', 'I', 'play', 'cricket']\n"
     ]
    }
   ],
   "source": [
    "print(sent_tokenize(text))\n",
    "print(word_tokenize(text))"
   ]
  },
  {
   "cell_type": "code",
   "execution_count": 20,
   "id": "afaa95f2-0cd8-41c9-8c9a-2aad8719c100",
   "metadata": {},
   "outputs": [],
   "source": [
    "from nltk.stem import PorterStemmer"
   ]
  },
  {
   "cell_type": "code",
   "execution_count": 23,
   "id": "cb8bef8d-8d46-4e9a-a39c-486f0ce798de",
   "metadata": {},
   "outputs": [],
   "source": [
    "porter=PorterStemmer()"
   ]
  },
  {
   "cell_type": "code",
   "execution_count": 24,
   "id": "80386c1f-324d-481f-8537-46fb79c63668",
   "metadata": {},
   "outputs": [
    {
     "name": "stdout",
     "output_type": "stream",
     "text": [
      "play\n",
      "play\n",
      "play\n",
      "play'\n"
     ]
    }
   ],
   "source": [
    "print(porter.stem('play'))\n",
    "print(porter.stem('played'))\n",
    "print(porter.stem('playing'))\n",
    "print(porter.stem(\"play's\"))"
   ]
  },
  {
   "cell_type": "code",
   "execution_count": 28,
   "id": "8dac0099-86be-4b88-8250-61eb0ab189b0",
   "metadata": {},
   "outputs": [
    {
     "name": "stderr",
     "output_type": "stream",
     "text": [
      "[nltk_data] Downloading package wordnet to C:\\Users\\Saurabh\n",
      "[nltk_data]     Kotkar\\AppData\\Roaming\\nltk_data...\n",
      "[nltk_data]   Package wordnet is already up-to-date!\n"
     ]
    }
   ],
   "source": [
    "#lemmitization\n",
    "nltk.download('wordnet')\n",
    "\n",
    "from nltk.stem import WordNetLemmatizer"
   ]
  },
  {
   "cell_type": "code",
   "execution_count": 32,
   "id": "64c4f111-3b6a-42ac-a987-738b7e63dbd3",
   "metadata": {},
   "outputs": [
    {
     "name": "stdout",
     "output_type": "stream",
     "text": [
      "playing\n",
      "cummunicatiom\n",
      "played\n"
     ]
    }
   ],
   "source": [
    "lematize=WordNetLemmatizer()\n",
    "print(lematize.lemmatize('playing'))\n",
    "print(lematize.lemmatize(\"cummunicatiom\"))\n",
    "\n",
    "print(lematize.lemmatize(\"played\"))"
   ]
  },
  {
   "cell_type": "code",
   "execution_count": 49,
   "id": "30f97593-09f3-43a8-a811-b88a825965a3",
   "metadata": {},
   "outputs": [
    {
     "name": "stderr",
     "output_type": "stream",
     "text": [
      "[nltk_data] Downloading package stopwords to C:\\Users\\Saurabh\n",
      "[nltk_data]     Kotkar\\AppData\\Roaming\\nltk_data...\n",
      "[nltk_data]   Package stopwords is already up-to-date!\n",
      "[nltk_data] Downloading package averaged_perceptron_tagger to\n",
      "[nltk_data]     C:\\Users\\Saurabh Kotkar\\AppData\\Roaming\\nltk_data...\n",
      "[nltk_data]   Package averaged_perceptron_tagger is already up-to-\n",
      "[nltk_data]       date!\n"
     ]
    }
   ],
   "source": [
    "nltk.download('stopwords')\n",
    "from nltk import word_tokenize\n",
    "from nltk import pos_tag\n",
    "nltk.download('averaged_perceptron_tagger')\n",
    "from nltk.corpus import stopwords\n",
    "from nltk import word_tokenize"
   ]
  },
  {
   "cell_type": "code",
   "execution_count": 50,
   "id": "fe7103c9-5a0b-4f8a-a77f-16dc616420e3",
   "metadata": {},
   "outputs": [],
   "source": [
    "txt='saurabh kotkar is a student of Amrutvahini college of engineering Sangamner'"
   ]
  },
  {
   "cell_type": "code",
   "execution_count": 51,
   "id": "6bc095dc-420d-41e8-8816-a342da04b1f2",
   "metadata": {},
   "outputs": [
    {
     "name": "stdout",
     "output_type": "stream",
     "text": [
      "[('saurabh', 'NN'), ('kotkar', 'NN'), ('is', 'VBZ'), ('a', 'DT'), ('student', 'NN'), ('of', 'IN'), ('Amrutvahini', 'NNP'), ('college', 'NN'), ('of', 'IN'), ('engineering', 'NN'), ('Sangamner', 'NN')]\n"
     ]
    }
   ],
   "source": [
    "wordtoken=word_tokenize(txt)\n",
    "pos_tags=p_tags=pos_tag(wordtoken)\n",
    "print(pos_tags)"
   ]
  },
  {
   "cell_type": "code",
   "execution_count": 60,
   "id": "0d3970c3-e940-4086-9e89-8d851ecdc79a",
   "metadata": {},
   "outputs": [
    {
     "name": "stdout",
     "output_type": "stream",
     "text": [
      "['Amrutvahini', 'is', 'a', 'best', 'college', 'in', 'the', 'Maharastra', '.']\n"
     ]
    }
   ],
   "source": [
    "sentence='Amrutvahini is a best college in the Maharastra.'\n",
    "word_token=word_tokenize(sentence)\n",
    "print(word_token)\n",
    "\n",
    "\n",
    "\n",
    "set_top=set(stopwords.words('english'))"
   ]
  },
  {
   "cell_type": "code",
   "execution_count": 61,
   "id": "9562d530-57e5-4ed1-a090-cde34b79b701",
   "metadata": {},
   "outputs": [],
   "source": [
    "filter=[]"
   ]
  },
  {
   "cell_type": "code",
   "execution_count": 62,
   "id": "d4bc3aa9-b328-48d3-a14f-fce2553d3701",
   "metadata": {},
   "outputs": [],
   "source": [
    "for w in word_token:\n",
    "    if w not in set_top:\n",
    "        filter.append(w)"
   ]
  },
  {
   "cell_type": "code",
   "execution_count": 63,
   "id": "f3fb3caf-437d-4ac0-af8b-d2b5f921b3c8",
   "metadata": {},
   "outputs": [
    {
     "data": {
      "text/plain": [
       "['Amrutvahini', 'best', 'college', 'Maharastra', '.']"
      ]
     },
     "execution_count": 63,
     "metadata": {},
     "output_type": "execute_result"
    }
   ],
   "source": [
    "filter"
   ]
  },
  {
   "cell_type": "code",
   "execution_count": null,
   "id": "702887d3-16c8-43cd-9ce2-4b0d41e6039d",
   "metadata": {},
   "outputs": [],
   "source": []
  }
 ],
 "metadata": {
  "kernelspec": {
   "display_name": "Python 3 (ipykernel)",
   "language": "python",
   "name": "python3"
  },
  "language_info": {
   "codemirror_mode": {
    "name": "ipython",
    "version": 3
   },
   "file_extension": ".py",
   "mimetype": "text/x-python",
   "name": "python",
   "nbconvert_exporter": "python",
   "pygments_lexer": "ipython3",
   "version": "3.11.3"
  }
 },
 "nbformat": 4,
 "nbformat_minor": 5
}
